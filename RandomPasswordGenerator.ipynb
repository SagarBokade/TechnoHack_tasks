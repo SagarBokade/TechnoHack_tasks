{
 "cells": [
  {
   "cell_type": "code",
   "execution_count": 1,
   "id": "6629e991-85ea-4f68-9dcf-9824989e9254",
   "metadata": {},
   "outputs": [
    {
     "name": "stdin",
     "output_type": "stream",
     "text": [
      "Enter the Number of the Characters that you need in the password :  8\n",
      "Enter the Number of the Numbers that you need in the password :  4\n",
      "Enter the Number of the Symbols that you need in the password :  2\n"
     ]
    },
    {
     "name": "stdout",
     "output_type": "stream",
     "text": [
      "The Randomly Generated Password is : 21K&0o9hH)Fafz\n"
     ]
    }
   ],
   "source": [
    "import random  #Library used for getting random input\n",
    "  \n",
    "def password_generator(char_length, num_length, symbol_length):  \n",
    "\n",
    "  \n",
    "    chars = \"abcdefghijklmnopqrstuvwxyzABCDEFGHIJKLMNOPQRSTUVWXYZ\"  \n",
    "    nums = \"0123456789\"  \n",
    "    symbols = \"!@#$%^&*()\"  \n",
    "  \n",
    "  \n",
    "    selectedChars = random.sample(chars, char_length)  \n",
    "    selectedNums = random.sample(nums, num_length)  \n",
    "    selectedSymbols = random.sample(symbols, symbol_length)  \n",
    "  \n",
    "    password_list = selectedChars + selectedNums + selectedSymbols  \n",
    "  \n",
    "    random.shuffle(password_list)  \n",
    "  \n",
    "    password_str = \"\".join(password_list)  \n",
    "  \n",
    "    return password_str  \n",
    "  \n",
    "if __name__ == \"__main__\":  \n",
    "    char_length = int(input(\"Enter the Number of the Characters that you need in the password : \"))  \n",
    "    num_length = int(input(\"Enter the Number of the Numbers that you need in the password : \"))  \n",
    "    symbol_length = int(input(\"Enter the Number of the Symbols that you need in the password : \"))  \n",
    "  \n",
    " \n",
    "    password = password_generator(char_length, num_length, symbol_length)  \n",
    "  \n",
    "    print(\"The Randomly Generated Password is :\", password) "
   ]
  },
  {
   "cell_type": "code",
   "execution_count": null,
   "id": "0628f8a3-dcbd-4e24-8270-106c2bb3714f",
   "metadata": {},
   "outputs": [],
   "source": []
  }
 ],
 "metadata": {
  "kernelspec": {
   "display_name": "Python 3 (ipykernel)",
   "language": "python",
   "name": "python3"
  },
  "language_info": {
   "codemirror_mode": {
    "name": "ipython",
    "version": 3
   },
   "file_extension": ".py",
   "mimetype": "text/x-python",
   "name": "python",
   "nbconvert_exporter": "python",
   "pygments_lexer": "ipython3",
   "version": "3.11.5"
  }
 },
 "nbformat": 4,
 "nbformat_minor": 5
}
